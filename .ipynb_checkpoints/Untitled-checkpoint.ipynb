{
 "cells": [
  {
   "cell_type": "code",
   "execution_count": 1,
   "id": "8bee2971",
   "metadata": {},
   "outputs": [
    {
     "ename": "NameError",
     "evalue": "name 'pd' is not defined",
     "output_type": "error",
     "traceback": [
      "\u001b[1;31m---------------------------------------------------------------------------\u001b[0m",
      "\u001b[1;31mNameError\u001b[0m                                 Traceback (most recent call last)",
      "Cell \u001b[1;32mIn[1], line 6\u001b[0m\n\u001b[0;32m      4\u001b[0m \u001b[38;5;28;01mfrom\u001b[39;00m \u001b[38;5;21;01mimblearn\u001b[39;00m\u001b[38;5;21;01m.\u001b[39;00m\u001b[38;5;21;01munder_sampling\u001b[39;00m \u001b[38;5;28;01mimport\u001b[39;00m RandomUnderSampler\n\u001b[0;32m      5\u001b[0m \u001b[38;5;28;01mfrom\u001b[39;00m \u001b[38;5;21;01mimblearn\u001b[39;00m\u001b[38;5;21;01m.\u001b[39;00m\u001b[38;5;21;01mover_sampling\u001b[39;00m \u001b[38;5;28;01mimport\u001b[39;00m SMOTE\n\u001b[1;32m----> 6\u001b[0m df\u001b[38;5;241m=\u001b[39m\u001b[43mpd\u001b[49m\u001b[38;5;241m.\u001b[39mread_csv(\u001b[38;5;124m\"\u001b[39m\u001b[38;5;124mdatacom.csv\u001b[39m\u001b[38;5;124m\"\u001b[39m)\n\u001b[0;32m      7\u001b[0m col\u001b[38;5;241m=\u001b[39m[\u001b[38;5;124m\"\u001b[39m\u001b[38;5;124mAge\u001b[39m\u001b[38;5;124m\"\u001b[39m,\u001b[38;5;124m\"\u001b[39m\u001b[38;5;124mHeight\u001b[39m\u001b[38;5;124m\"\u001b[39m,\u001b[38;5;124m\"\u001b[39m\u001b[38;5;124mWeight\u001b[39m\u001b[38;5;124m\"\u001b[39m,\u001b[38;5;124m\"\u001b[39m\u001b[38;5;124mNCP\u001b[39m\u001b[38;5;124m\"\u001b[39m,\u001b[38;5;124m\"\u001b[39m\u001b[38;5;124mbmi\u001b[39m\u001b[38;5;124m\"\u001b[39m,\u001b[38;5;124m\"\u001b[39m\u001b[38;5;124mFAF\u001b[39m\u001b[38;5;124m\"\u001b[39m,\u001b[38;5;124m\"\u001b[39m\u001b[38;5;124mCAEC\u001b[39m\u001b[38;5;124m\"\u001b[39m] \n\u001b[0;32m      8\u001b[0m scaler\u001b[38;5;241m=\u001b[39mStandardScaler()\n",
      "\u001b[1;31mNameError\u001b[0m: name 'pd' is not defined"
     ]
    }
   ],
   "source": [
    "import pickle\n",
    "from sklearn.preprocessing import StandardScaler\n",
    "from imblearn.combine import SMOTETomek\n",
    "from imblearn.under_sampling import RandomUnderSampler\n",
    "from imblearn.over_sampling import SMOTE\n",
    "import pandas as pd\n",
    "df=pd.read_csv(\"datacom.csv\")\n",
    "col=[\"Age\",\"Height\",\"Weight\",\"NCP\",\"bmi\",\"FAF\",\"CAEC\"] \n",
    "scaler=StandardScaler()\n",
    "df[col]=scaler.fit_transform(df[col])\n",
    "\n",
    "x=df.drop(columns=\"NObeyesdad\")\n",
    "y=df[\"NObeyesdad\"]\n",
    "sm=SMOTE(sampling_strategy={0:400,1:400},random_state=0)\n",
    "x, y = sm.fit_resample(x, y)\n",
    "tm=RandomUnderSampler(sampling_strategy={2:400})\n",
    "x,y=tm.fit_resample(x,y)\n",
    "df=pd.concat([x,y],axis=1)\n",
    "\n",
    "print(df[\"NObeyesdad\"].value_counts())\n",
    "xfinal=df.drop(columns=\"NObeyesdad\")\n",
    "yfinal=df[\"NObeyesdad\"]\n",
    "print(xfinal)\n",
    "model=XGBClassifier(learning_rate= 0.1, max_depth= 3, n_estimators=150, n_jobs= 3,random_state=0)\n",
    "model.fit(xfinal,yfinal)\n",
    "\n",
    "pickle.dump(model,open('model.pkl',\"wb\"))\n",
    "pickle.dump(scaler,open('scaler.pkl',\"wb\"))"
   ]
  }
 ],
 "metadata": {
  "kernelspec": {
   "display_name": "Python 3 (ipykernel)",
   "language": "python",
   "name": "python3"
  },
  "language_info": {
   "codemirror_mode": {
    "name": "ipython",
    "version": 3
   },
   "file_extension": ".py",
   "mimetype": "text/x-python",
   "name": "python",
   "nbconvert_exporter": "python",
   "pygments_lexer": "ipython3",
   "version": "3.11.5"
  }
 },
 "nbformat": 4,
 "nbformat_minor": 5
}
